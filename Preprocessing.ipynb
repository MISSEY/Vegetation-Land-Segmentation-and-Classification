{
 "cells": [
  {
   "cell_type": "markdown",
   "id": "592379b1-02c7-4199-8e19-f3a6cb004a29",
   "metadata": {},
   "source": [
    "# Crop Classification\n",
    "\n",
    "The project focus three stages of crop cylce, please follow below link for know about the stages. \n",
    "\n",
    "[Crop details](https://docs.google.com/drawings/d/1oyH4NqZqckdJBXbudCC-5BtxOSA5LPmg3pojAGm8RP4/edit?usp=sharing)\n",
    "\n",
    "Project focuses on 7 classes of crops which is divided into 4 different categories depending upon the respective crop cycle.\n",
    "\n",
    "\n",
    "| crop      | crop_class |\n",
    "| ----------- | ----------- |\n",
    "| barley_w      | 1       |\n",
    "| wheat_w   | 2        |\n",
    "| rapeseed_w      | 3       |\n",
    "| rye_w   | 4        |\n",
    "| barley_s      | 5       |\n",
    "| wheat_s   | 6        |\n",
    "| oats_s   | 7       |\n",
    "\n"
   ]
  },
  {
   "cell_type": "markdown",
   "id": "8630816e-af4a-49ff-9cc0-931eb2a28e83",
   "metadata": {},
   "source": [
    "## Know the crop data"
   ]
  },
  {
   "cell_type": "markdown",
   "id": "8f4e2d29-0523-489f-a655-edc9d6db21d5",
   "metadata": {},
   "source": [
    "#### Import"
   ]
  },
  {
   "cell_type": "code",
   "execution_count": 1,
   "id": "29849600-03e1-44e3-8338-e4875ad32c8b",
   "metadata": {},
   "outputs": [],
   "source": [
    "import pandas as pd\n",
    "import numpy as np\n",
    "import rioxarray\n",
    "import os\n",
    "import geopandas as gpd\n",
    "import rasterio\n",
    "import fiona\n",
    "\n",
    "import rasterio.mask\n",
    "import sys\n",
    "from pathlib import Path\n",
    "\n",
    "from tqdm import tqdm\n",
    "\n",
    "from data_op import shapefile\n",
    "from config import settings as st"
   ]
  },
  {
   "cell_type": "code",
   "execution_count": 2,
   "id": "3a2335e2-4003-4352-a0bf-6a603b90d17d",
   "metadata": {},
   "outputs": [],
   "source": [
    "crop_classes = pd.read_excel(os.path.join(st.data_directory,'crop_code/croptable_2020.xlsx'))"
   ]
  },
  {
   "cell_type": "code",
   "execution_count": 3,
   "id": "1128ebfa-a8bd-49f4-bdff-ddd8e6c7bb2e",
   "metadata": {},
   "outputs": [
    {
     "data": {
      "text/html": [
       "<div>\n",
       "<style scoped>\n",
       "    .dataframe tbody tr th:only-of-type {\n",
       "        vertical-align: middle;\n",
       "    }\n",
       "\n",
       "    .dataframe tbody tr th {\n",
       "        vertical-align: top;\n",
       "    }\n",
       "\n",
       "    .dataframe thead th {\n",
       "        text-align: right;\n",
       "    }\n",
       "</style>\n",
       "<table border=\"1\" class=\"dataframe\">\n",
       "  <thead>\n",
       "    <tr style=\"text-align: right;\">\n",
       "      <th></th>\n",
       "      <th>Crop_nr</th>\n",
       "      <th>Name</th>\n",
       "    </tr>\n",
       "  </thead>\n",
       "  <tbody>\n",
       "    <tr>\n",
       "      <th>0</th>\n",
       "      <td>1</td>\n",
       "      <td>Spring barley</td>\n",
       "    </tr>\n",
       "    <tr>\n",
       "      <th>1</th>\n",
       "      <td>2</td>\n",
       "      <td>Spring wheat</td>\n",
       "    </tr>\n",
       "    <tr>\n",
       "      <th>2</th>\n",
       "      <td>3</td>\n",
       "      <td>Spring oats</td>\n",
       "    </tr>\n",
       "    <tr>\n",
       "      <th>3</th>\n",
       "      <td>4</td>\n",
       "      <td>Mix of spring sown cereals</td>\n",
       "    </tr>\n",
       "    <tr>\n",
       "      <th>4</th>\n",
       "      <td>5</td>\n",
       "      <td>Maize for maturity</td>\n",
       "    </tr>\n",
       "    <tr>\n",
       "      <th>...</th>\n",
       "      <td>...</td>\n",
       "      <td>...</td>\n",
       "    </tr>\n",
       "    <tr>\n",
       "      <th>321</th>\n",
       "      <td>711</td>\n",
       "      <td>Green grain of winter triticale</td>\n",
       "    </tr>\n",
       "    <tr>\n",
       "      <th>322</th>\n",
       "      <td>900</td>\n",
       "      <td>Other crops</td>\n",
       "    </tr>\n",
       "    <tr>\n",
       "      <th>323</th>\n",
       "      <td>903</td>\n",
       "      <td>Light and open areas in wood</td>\n",
       "    </tr>\n",
       "    <tr>\n",
       "      <th>324</th>\n",
       "      <td>905</td>\n",
       "      <td>Other use on areas with schemes</td>\n",
       "    </tr>\n",
       "    <tr>\n",
       "      <th>325</th>\n",
       "      <td>907</td>\n",
       "      <td>Nature areas, organic farming</td>\n",
       "    </tr>\n",
       "  </tbody>\n",
       "</table>\n",
       "<p>326 rows × 2 columns</p>\n",
       "</div>"
      ],
      "text/plain": [
       "     Crop_nr                             Name\n",
       "0          1                    Spring barley\n",
       "1          2                     Spring wheat\n",
       "2          3                      Spring oats\n",
       "3          4       Mix of spring sown cereals\n",
       "4          5               Maize for maturity\n",
       "..       ...                              ...\n",
       "321      711  Green grain of winter triticale\n",
       "322      900                      Other crops\n",
       "323      903     Light and open areas in wood\n",
       "324      905  Other use on areas with schemes\n",
       "325      907    Nature areas, organic farming\n",
       "\n",
       "[326 rows x 2 columns]"
      ]
     },
     "execution_count": 3,
     "metadata": {},
     "output_type": "execute_result"
    }
   ],
   "source": [
    "crop_classes"
   ]
  },
  {
   "cell_type": "code",
   "execution_count": 9,
   "id": "d5a3820d-fc48-43c0-bc72-236a06d97817",
   "metadata": {},
   "outputs": [
    {
     "name": "stdout",
     "output_type": "stream",
     "text": [
      "326\n"
     ]
    }
   ],
   "source": [
    "crop_classes_list = np.unique(crop_classes.Crop_nr)\n",
    "print(len(crop_classes_list))"
   ]
  },
  {
   "cell_type": "markdown",
   "id": "f8f64cf1-454f-4a9b-92dc-29e20545a077",
   "metadata": {},
   "source": [
    "Distinct crop classes and names for 7 crops, divided into 4 categories depending upon the respective crop cycle, \n",
    "\n",
    "**Categories**\n",
    "\n",
    "| Index      | Months |\n",
    "| ----------- | ----------- |\n",
    "| 1      |  Jan-Mar      |\n",
    "| 2   | Apr-Jun        |\n",
    "| 3      | Jul-Sep       |\n",
    "| 4   | Oct-Nov        |\n",
    "\n",
    "**Category wise crop classes**\n",
    "\n",
    "</br>\n",
    "</br>\n",
    "\n",
    "**1. Jan-Mar**\n",
    "\n",
    "| crop      | Crop_nr |   cycle_stage     |\n",
    "| ----------- | ----------- | ----------- |\n",
    "|  barley_w     |   706     | mid |\n",
    "| wheat_w   | 707       | mid |\n",
    "| rye_w      | 709,710      | mid |\n",
    "\n",
    "</br>\n",
    "</br>\n",
    "\n",
    "**2. Apr-Jun**\n",
    "\n",
    "| crop      | Crop_nr |   cycle_stage      |\n",
    "| ----------- | ----------- | ----------- |\n",
    "|  barley_w     |   706     | mid |\n",
    "| wheat_w   | 707       | mid |\n",
    "| rye_w      | 709,710      | mid |\n",
    "| barley_s   | 01,701      | planting and mid |\n",
    "| wheat_s      | 02,06,702     | planting and mid  |\n",
    "| oats_s      | 03,703    | planting and mid  |\n",
    "\n",
    "</br>\n",
    "</br>\n",
    "\n",
    "\n",
    "**3. Jul-Sep**\n",
    "\n",
    "| crop      | Crop_nr |   cycle_stage      |\n",
    "| ----------- | ----------- | ----------- |\n",
    "|  barley_w     |   706,220     | mid and harvest |\n",
    "| wheat_w   | 707,221       | mid and harvest|\n",
    "| rye_w      | 222     | harvest |\n",
    "| barley_s   | 701,210      | mid and harvest |\n",
    "| wheat_s      | 702,211     | mid and harvest |\n",
    "| oats_s      | 703,212    | mid and harvest  |\n",
    "\n",
    "</br>\n",
    "</br>\n",
    "\n",
    "\n",
    "**4. Oct-Dec**\n",
    "\n",
    "| crop      | Crop_nr |   cycle_stage      |\n",
    "| ----------- | ----------- | ----------- |\n",
    "|  barley_w     | 10    | planting|\n",
    "| wheat_w   | 11,13      | planting|\n",
    "| rapeseed_w      | 22     | planting |\n",
    "| rye_w      | 14,15     | planting |\n",
    "| barley_s   | 210      | harvest |\n",
    "| wheat_s      | 211     | harvest |\n",
    "\n",
    "</br>\n",
    "</br>\n",
    "</br>\n",
    "</br>\n",
    "</br>\n",
    "</br>\n",
    "</br>\n",
    "</br>\n",
    "\n",
    "Summmer and Winter crop categorisation\n",
    "\n",
    "| Season      | crop |\n",
    "| ----------- | ----------- |\n",
    "| Winter      | barley_w, wheat_w, rapeseed_w, rye_w       |\n",
    "| Summer/Spring   | barley_s,wheat_s,oats_s        |\n",
    "\n",
    "</br>\n",
    "</br>\n",
    "</br>\n",
    "</br>\n",
    "</br>\n",
    "</br>\n",
    "</br>\n",
    "</br>\n",
    "\n",
    "**1. Jan-Mar**\n",
    "\n",
    "| crop      | Crop_nr |   cycle_stage     |\n",
    "| ----------- | ----------- | ----------- |\n",
    "|  barley_w     |   10     | mid |\n",
    "| wheat_w   | 11,13       | mid |\n",
    "| rye_w      | 14,15      | mid |\n",
    "| rapeseed_w      | 22     | mid |\n",
    "\n",
    "**2. Apr-Jun**\n",
    "\n",
    "| crop      | Crop_nr |   cycle_stage     |\n",
    "| ----------- | ----------- | ----------- |\n",
    "|  barley_w     |   10     | mid |\n",
    "| wheat_w   | 11,13       | mid |\n",
    "| rye_w      | 14,15      | mid |\n",
    "| rapeseed_w      | 22     | mid |\n",
    "| barley_s   | 01      | planting and mid  |\n",
    "| wheat_s      | 02,06     | planting and mid |\n",
    "| oats_s      | 03   | planting and mid |\n",
    "\n",
    "**3. Jul-Sep**\n",
    "\n",
    "| crop      | Crop_nr |   cycle_stage     |\n",
    "| ----------- | ----------- | ----------- |\n",
    "|  barley_w     |   10     | mid and harvest |\n",
    "| wheat_w   | 11,13       | mid and harvesst|\n",
    "| rye_w      | 14,15      | harvest |\n",
    "| rapeseed_w      | 22     | harvest |\n",
    "| barley_s   | 01     | mid and harvest |\n",
    "| wheat_s      | 02,06     | mid and harvest |\n",
    "| oats_s      | 03   | mid and harvest  |\n",
    "\n",
    "**4. Oct-Dec**\n",
    "\n",
    "| crop      | Crop_nr |   cycle_stage     |\n",
    "| ----------- | ----------- | ----------- |\n",
    "|  barley_w     |   10     | planting |\n",
    "| wheat_w   | 11,13       | planting|\n",
    "| rye_w      | 14,15      | planting |\n",
    "| rapeseed_w      | 22     | planting |\n",
    "| barley_s   | 01     |  harvest |\n",
    "| wheat_s      | 02,06     | harvest |\n",
    "\n",
    "\n",
    "\n",
    "\n"
   ]
  },
  {
   "cell_type": "markdown",
   "id": "76a39ab3-d94d-462b-a9c4-2a291a18b41f",
   "metadata": {},
   "source": [
    "## Prepare Dataset\n",
    "\n"
   ]
  },
  {
   "cell_type": "code",
   "execution_count": 2,
   "id": "cf0a1add-7a8c-4c75-a734-741f8e381395",
   "metadata": {},
   "outputs": [],
   "source": [
    "# Create 4 shapefiles from 4 categorise \n",
    "path_raw = 'Raw_shape_files/Raw_downloaded_files'\n",
    "shape_ex = shapefile.Shape_Extractor(shape_file = os.path.join(st.data_directory,path_raw,'Denmark_shape_2020/Marker_2020.shp'))\n",
    "denmark_veg = shape_ex.import_shape()\n",
    "\n",
    "#rename column \n",
    "denmark_veg.reset_index(drop=True, inplace=True)\n",
    "denmark_veg = denmark_veg.rename(columns = {'Afgkode':'code'},errors='raise')\n",
    "columns_to_be_remove= ['Marknr', 'IMK_areal', 'Journalnr', 'CVR', 'Afgroede', 'GB','Markblok', 'GBanmeldt']\n",
    "denmark_veg = shape_ex.filter_shape_data(df = denmark_veg,column_names = columns_to_be_remove)"
   ]
  },
  {
   "cell_type": "code",
   "execution_count": 23,
   "id": "bf5d33e1-1fd2-4f40-b4ac-0b6f06d1d2ac",
   "metadata": {},
   "outputs": [],
   "source": []
  },
  {
   "cell_type": "code",
   "execution_count": 7,
   "id": "c0622b8e-6074-4c1a-9803-db1760213834",
   "metadata": {},
   "outputs": [],
   "source": [
    "# category 1 jan-march\n",
    "classes_for_cat_1 = {\n",
    "    'barley_w': [706],\n",
    "    'wheat_w': [707],\n",
    "    'rye_w': [709,710]\n",
    "    }\n",
    "denmark_veg_cat_1 = shape_ex.prepare_labels(df = denmark_veg,class_dictionary = classes_for_cat_1,id_col = 'code',label_name='classes')"
   ]
  },
  {
   "cell_type": "code",
   "execution_count": 8,
   "id": "fa4b264c-ba3a-48d4-a42f-cbdc9da73591",
   "metadata": {},
   "outputs": [
    {
     "data": {
      "text/plain": [
       "<AxesSubplot:>"
      ]
     },
     "execution_count": 8,
     "metadata": {},
     "output_type": "execute_result"
    },
    {
     "data": {
      "image/png": "[encoded data removed]",
      "text/plain": [
       "<Figure size 432x288 with 1 Axes>"
      ]
     },
     "metadata": {
      "needs_background": "light"
     },
     "output_type": "display_data"
    }
   ],
   "source": [
    "denmark_veg_cat_1['r_classes'].value_counts().plot(kind='barh')"
   ]
  },
  {
   "cell_type": "markdown",
   "id": "240d5101-6431-4c56-9649-a26dec11b39a",
   "metadata": {},
   "source": [
    "## Satellite Imagery Download"
   ]
  },
  {
   "cell_type": "code",
   "execution_count": 4,
   "id": "b649cb3a-2679-4833-a0ab-91c4034f0dcb",
   "metadata": {},
   "outputs": [],
   "source": [
    "import geemap\n",
    "import ee\n",
    "import IPython"
   ]
  },
  {
   "cell_type": "code",
   "execution_count": 9,
   "id": "25b94dcc-189f-4bfb-9cbb-d277f878709a",
   "metadata": {},
   "outputs": [
    {
     "data": {
      "application/vnd.jupyter.widget-view+json": {
       "model_id": "39c6aa999fb142caa81e919c2619cf3c",
       "version_major": 2,
       "version_minor": 0
      },
      "text/plain": [
       "Map(center=[56.2639, 9.5018], controls=(WidgetControl(options=['position'], widget=HBox(children=(ToggleButton…"
      ]
     },
     "metadata": {},
     "output_type": "display_data"
    }
   ],
   "source": [
    "\n",
    "ee.Initialize()\n",
    "Map = geemap.Map(center=[56.2639,9.5018], zoom=7)\n",
    "Map"
   ]
  },
  {
   "cell_type": "code",
   "execution_count": 10,
   "id": "17b13cb9-2d82-4ef8-a1ff-364f9e3e8ac2",
   "metadata": {},
   "outputs": [],
   "source": [
    "denmark_geometry =ee.Geometry.Polygon(\n",
    "        [[[8.06, 57.74],\n",
    "          [10.62,57.74],\n",
    "          [11.21, 57.31],\n",
    "          [11.67, 56.74],\n",
    "          [12.62,56.03],\n",
    "          [12.64,55.81],\n",
    "          [12.78,55.67],\n",
    "          [12.79,55.64],\n",
    "          [12.85,55.56],\n",
    "          [12.57,54.94],\n",
    "          [11.96, 54.55],\n",
    "          [11.46, 54.60],\n",
    "          [10.67,54.70],\n",
    "          [9.937345,54.848469],\n",
    "          [9.692023,54.828515],\n",
    "          [9.636622,54.860250],\n",
    "          [9.608859,54.890788],\n",
    "          [9.485931,54.839107],\n",
    "          [9.422113,54.830018],\n",
    "          [9.343855,54.800103],\n",
    "          [9.330371,54.804208],\n",
    "          [9.329360,54.805617],\n",
    "          [9.293550,54.808889],\n",
    "          [9.292091,54.806168],\n",
    "          [9.295584,54.803154],\n",
    "          [9.250266,54.809606],\n",
    "          [9.031632,54.876914],\n",
    "          [8.778732,54.891528],\n",
    "          [8.60156,54.910120],\n",
    "          [8.50,55.05],\n",
    "          [8.45,55.09],\n",
    "          [8.06, 55.55]]], None, False);"
   ]
  },
  {
   "cell_type": "code",
   "execution_count": 24,
   "id": "a803b8c8",
   "metadata": {},
   "outputs": [],
   "source": [
    "# cloud precentage 2 for jan-sep and cloud percentage 10 for oct-dec\n",
    "dataset = ee.ImageCollection('COPERNICUS/S2_SR') \\\n",
    "    .filterBounds(denmark_geometry) \\\n",
    "    .filter(ee.Filter.lt('CLOUDY_PIXEL_PERCENTAGE',8)) \\\n",
    "    .filterDate('2020-10-01', '2020-12-31') \\\n",
    "    .select(['B2', 'B3', 'B4']);\n",
    "mosaic = dataset.mosaic().clip(denmark_geometry);\n",
    "\n",
    "sentinel_vis = {\n",
    "    'bands': ['B4', 'B3', 'B2'],\n",
    "    'min':0, \n",
    "    'max':3000\n",
    "    \n",
    "}\n",
    "\n",
    "\n"
   ]
  },
  {
   "cell_type": "code",
   "execution_count": 25,
   "id": "407427db",
   "metadata": {},
   "outputs": [],
   "source": [
    "\n",
    "Map.addLayer(mosaic, sentinel_vis , 'mosaic');\n",
    "Map.centerObject(denmark_geometry);\n",
    "image,request = mosaic._apply_visualization(sentinel_vis)\n"
   ]
  },
  {
   "cell_type": "code",
   "execution_count": 26,
   "id": "f98cbb42",
   "metadata": {},
   "outputs": [],
   "source": [
    "task_jul = ee.batch.Export.image.toDrive(image=image,  # an ee.Image object.\n",
    "                                     region=denmark_geometry,  # an ee.Geometry object.\n",
    "                                     description='denmark_export',\n",
    "                                     folder='Fieldsegmentation_Oct_Dec',\n",
    "                                     fileNamePrefix='denmark',\n",
    "                                     scale=10,\n",
    "                                     crs='EPSG:4326',\n",
    "                                     maxPixels = 1e12)\n",
    "task_jul.start()"
   ]
  },
  {
   "cell_type": "code",
   "execution_count": null,
   "id": "0611a968",
   "metadata": {},
   "outputs": [],
   "source": []
  }
 ],
 "metadata": {
  "kernelspec": {
   "display_name": "Python 3",
   "language": "python",
   "name": "python3"
  },
  "language_info": {
   "codemirror_mode": {
    "name": "ipython",
    "version": 3
   },
   "file_extension": ".py",
   "mimetype": "text/x-python",
   "name": "python",
   "nbconvert_exporter": "python",
   "pygments_lexer": "ipython3",
   "version": "3.8.8"
  }
 },
 "nbformat": 4,
 "nbformat_minor": 5
}