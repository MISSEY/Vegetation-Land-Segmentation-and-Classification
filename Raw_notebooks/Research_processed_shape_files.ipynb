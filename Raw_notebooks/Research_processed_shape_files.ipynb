{
 "cells": [
  {
   "cell_type": "code",
   "execution_count": 2,
   "id": "intense-store",
   "metadata": {},
   "outputs": [],
   "source": [
    "import sys\n",
    "from pathlib import Path\n",
    "module_path = str(Path.cwd().parents[0])\n",
    "if module_path not in sys.path:\n",
    "    sys.path.append(module_path)\n",
    "from config import settings as st\n",
    "from data_op import shapefile\n",
    "import numpy as np\n",
    "import os"
   ]
  },
  {
   "cell_type": "code",
   "execution_count": 2,
   "id": "suited-playlist",
   "metadata": {},
   "outputs": [
    {
     "data": {
      "text/plain": [
       "<AxesSubplot:>"
      ]
     },
     "execution_count": 2,
     "metadata": {},
     "output_type": "execute_result"
    },
    {
     "data": {
      "image/png": "[encoded data removed]",
      "text/plain": [
       "<Figure size 432x288 with 1 Axes>"
      ]
     },
     "metadata": {
      "needs_background": "light"
     },
     "output_type": "display_data"
    }
   ],
   "source": [
    "processed_file_path = os.path.join(st.data_directory,'Preprocessed_denamark_shape_files','Denmark_shape_2020')\n",
    "file = 'Apr_Jun.shp'\n",
    "shape_ex = shapefile.Shape_Extractor(shape_file = os.path.join(processed_file_path,file))\n",
    "denmark_veg = shape_ex.import_shape()\n",
    "denmark_veg['r_classes'].value_counts().plot(kind='barh')"
   ]
  },
  {
   "cell_type": "code",
   "execution_count": 7,
   "id": "operational-adventure",
   "metadata": {},
   "outputs": [
    {
     "data": {
      "text/plain": [
       "array(['barley_s', 'barley_w', 'oats_s', 'rapeseed_w', 'rye_w', 'wheat_s',\n",
       "       'wheat_w'], dtype=object)"
      ]
     },
     "execution_count": 7,
     "metadata": {},
     "output_type": "execute_result"
    }
   ],
   "source": [
    "np.unique(denmark_veg['r_classes'])"
   ]
  },
  {
   "cell_type": "code",
   "execution_count": 8,
   "id": "designed-listening",
   "metadata": {},
   "outputs": [
    {
     "data": {
      "text/plain": [
       "array([1, 2, 3, 4, 5, 6, 7])"
      ]
     },
     "execution_count": 8,
     "metadata": {},
     "output_type": "execute_result"
    }
   ],
   "source": [
    "np.unique(denmark_veg['r_code'])"
   ]
  },
  {
   "cell_type": "code",
   "execution_count": 9,
   "id": "broke-halloween",
   "metadata": {},
   "outputs": [
    {
     "name": "stdout",
     "output_type": "stream",
     "text": [
      "Loading from existing pickle file... /home/sami02/projects/thesis/Data/v_Apr_Jun/final_crop_chip_info/chip_dfs.pickle\n"
     ]
    }
   ],
   "source": [
    "from common import dictionary_utils\n",
    "version_path = os.path.join(st.data_directory,'v_'+str('Apr_Jun'))\n",
    "pickle_path = path = os.path.join(version_path,'final_crop_chip_info','chip_dfs.pickle')\n",
    "final_chip_dfs = dictionary_utils.load_pickle(pickle_path)"
   ]
  },
  {
   "cell_type": "code",
   "execution_count": 15,
   "id": "short-intellectual",
   "metadata": {},
   "outputs": [
    {
     "data": {
      "text/html": [
       "<div>\n",
       "<style scoped>\n",
       "    .dataframe tbody tr th:only-of-type {\n",
       "        vertical-align: middle;\n",
       "    }\n",
       "\n",
       "    .dataframe tbody tr th {\n",
       "        vertical-align: top;\n",
       "    }\n",
       "\n",
       "    .dataframe thead th {\n",
       "        text-align: right;\n",
       "    }\n",
       "</style>\n",
       "<table border=\"1\" class=\"dataframe\">\n",
       "  <thead>\n",
       "    <tr style=\"text-align: right;\">\n",
       "      <th></th>\n",
       "      <th>code</th>\n",
       "      <th>r_classes</th>\n",
       "      <th>r_code</th>\n",
       "      <th>fid</th>\n",
       "      <th>area_sqm</th>\n",
       "      <th>geometry</th>\n",
       "    </tr>\n",
       "  </thead>\n",
       "  <tbody>\n",
       "    <tr>\n",
       "      <th>5222</th>\n",
       "      <td>1.0</td>\n",
       "      <td>barley_s</td>\n",
       "      <td>5</td>\n",
       "      <td>6266</td>\n",
       "      <td>1.675421e-05</td>\n",
       "      <td>POLYGON ((795.274 652.012, 782.783 647.119, 77...</td>\n",
       "    </tr>\n",
       "    <tr>\n",
       "      <th>5223</th>\n",
       "      <td>1.0</td>\n",
       "      <td>barley_s</td>\n",
       "      <td>5</td>\n",
       "      <td>6267</td>\n",
       "      <td>9.254957e-06</td>\n",
       "      <td>POLYGON ((770.903 643.311, 771.092 643.378, 77...</td>\n",
       "    </tr>\n",
       "    <tr>\n",
       "      <th>5224</th>\n",
       "      <td>1.0</td>\n",
       "      <td>barley_s</td>\n",
       "      <td>5</td>\n",
       "      <td>6268</td>\n",
       "      <td>1.387253e-05</td>\n",
       "      <td>POLYGON ((800.000 689.909, 797.610 688.661, 79...</td>\n",
       "    </tr>\n",
       "    <tr>\n",
       "      <th>5230</th>\n",
       "      <td>11.0</td>\n",
       "      <td>wheat_w</td>\n",
       "      <td>2</td>\n",
       "      <td>6277</td>\n",
       "      <td>9.569080e-06</td>\n",
       "      <td>POLYGON ((746.552 695.915, 746.340 695.216, 74...</td>\n",
       "    </tr>\n",
       "    <tr>\n",
       "      <th>5231</th>\n",
       "      <td>11.0</td>\n",
       "      <td>wheat_w</td>\n",
       "      <td>2</td>\n",
       "      <td>6278</td>\n",
       "      <td>2.638682e-05</td>\n",
       "      <td>POLYGON ((749.833 726.555, 749.939 725.725, 75...</td>\n",
       "    </tr>\n",
       "    <tr>\n",
       "      <th>61357</th>\n",
       "      <td>1.0</td>\n",
       "      <td>barley_s</td>\n",
       "      <td>5</td>\n",
       "      <td>77905</td>\n",
       "      <td>6.420712e-06</td>\n",
       "      <td>POLYGON ((648.576 800.000, 648.595 796.419, 64...</td>\n",
       "    </tr>\n",
       "    <tr>\n",
       "      <th>61358</th>\n",
       "      <td>1.0</td>\n",
       "      <td>barley_s</td>\n",
       "      <td>5</td>\n",
       "      <td>77906</td>\n",
       "      <td>2.330746e-06</td>\n",
       "      <td>POLYGON ((683.350 778.912, 683.317 778.919, 68...</td>\n",
       "    </tr>\n",
       "    <tr>\n",
       "      <th>69658</th>\n",
       "      <td>1.0</td>\n",
       "      <td>barley_s</td>\n",
       "      <td>5</td>\n",
       "      <td>88403</td>\n",
       "      <td>2.183885e-06</td>\n",
       "      <td>POLYGON ((676.417 711.281, 676.472 710.711, 67...</td>\n",
       "    </tr>\n",
       "    <tr>\n",
       "      <th>69678</th>\n",
       "      <td>1.0</td>\n",
       "      <td>barley_s</td>\n",
       "      <td>5</td>\n",
       "      <td>88436</td>\n",
       "      <td>5.099897e-07</td>\n",
       "      <td>POLYGON ((667.274 700.308, 667.746 700.333, 66...</td>\n",
       "    </tr>\n",
       "    <tr>\n",
       "      <th>69679</th>\n",
       "      <td>1.0</td>\n",
       "      <td>barley_s</td>\n",
       "      <td>5</td>\n",
       "      <td>88437</td>\n",
       "      <td>8.361732e-07</td>\n",
       "      <td>POLYGON ((704.419 731.027, 704.315 731.707, 70...</td>\n",
       "    </tr>\n",
       "    <tr>\n",
       "      <th>69680</th>\n",
       "      <td>1.0</td>\n",
       "      <td>barley_s</td>\n",
       "      <td>5</td>\n",
       "      <td>88438</td>\n",
       "      <td>8.586755e-06</td>\n",
       "      <td>POLYGON ((700.177 674.609, 700.051 674.244, 70...</td>\n",
       "    </tr>\n",
       "    <tr>\n",
       "      <th>69681</th>\n",
       "      <td>1.0</td>\n",
       "      <td>barley_s</td>\n",
       "      <td>5</td>\n",
       "      <td>88439</td>\n",
       "      <td>2.022896e-06</td>\n",
       "      <td>POLYGON ((700.177 674.609, 700.317 675.136, 70...</td>\n",
       "    </tr>\n",
       "    <tr>\n",
       "      <th>69682</th>\n",
       "      <td>1.0</td>\n",
       "      <td>barley_s</td>\n",
       "      <td>5</td>\n",
       "      <td>88440</td>\n",
       "      <td>2.297353e-06</td>\n",
       "      <td>POLYGON ((664.740 683.758, 663.549 679.006, 66...</td>\n",
       "    </tr>\n",
       "    <tr>\n",
       "      <th>69683</th>\n",
       "      <td>1.0</td>\n",
       "      <td>barley_s</td>\n",
       "      <td>5</td>\n",
       "      <td>88441</td>\n",
       "      <td>9.056516e-06</td>\n",
       "      <td>POLYGON ((664.835 728.085, 666.329 728.260, 66...</td>\n",
       "    </tr>\n",
       "    <tr>\n",
       "      <th>69702</th>\n",
       "      <td>1.0</td>\n",
       "      <td>barley_s</td>\n",
       "      <td>5</td>\n",
       "      <td>88474</td>\n",
       "      <td>6.954818e-06</td>\n",
       "      <td>POLYGON ((679.211 762.488, 679.185 762.462, 67...</td>\n",
       "    </tr>\n",
       "    <tr>\n",
       "      <th>69703</th>\n",
       "      <td>1.0</td>\n",
       "      <td>barley_s</td>\n",
       "      <td>5</td>\n",
       "      <td>88475</td>\n",
       "      <td>8.176715e-06</td>\n",
       "      <td>POLYGON ((695.677 775.732, 695.714 775.645, 69...</td>\n",
       "    </tr>\n",
       "    <tr>\n",
       "      <th>69704</th>\n",
       "      <td>1.0</td>\n",
       "      <td>barley_s</td>\n",
       "      <td>5</td>\n",
       "      <td>88476</td>\n",
       "      <td>1.375611e-05</td>\n",
       "      <td>POLYGON ((695.677 775.732, 780.017 785.614, 78...</td>\n",
       "    </tr>\n",
       "    <tr>\n",
       "      <th>93142</th>\n",
       "      <td>11.0</td>\n",
       "      <td>wheat_w</td>\n",
       "      <td>2</td>\n",
       "      <td>116814</td>\n",
       "      <td>1.070783e-05</td>\n",
       "      <td>POLYGON ((756.793 732.934, 756.794 732.929, 75...</td>\n",
       "    </tr>\n",
       "    <tr>\n",
       "      <th>93189</th>\n",
       "      <td>11.0</td>\n",
       "      <td>wheat_w</td>\n",
       "      <td>2</td>\n",
       "      <td>116864</td>\n",
       "      <td>4.067680e-05</td>\n",
       "      <td>POLYGON ((663.405 800.000, 664.990 796.199, 66...</td>\n",
       "    </tr>\n",
       "    <tr>\n",
       "      <th>97788</th>\n",
       "      <td>11.0</td>\n",
       "      <td>wheat_w</td>\n",
       "      <td>2</td>\n",
       "      <td>121865</td>\n",
       "      <td>9.853092e-06</td>\n",
       "      <td>POLYGON ((728.309 761.782, 727.776 761.755, 72...</td>\n",
       "    </tr>\n",
       "  </tbody>\n",
       "</table>\n",
       "</div>"
      ],
      "text/plain": [
       "       code r_classes  r_code     fid      area_sqm  \\\n",
       "5222    1.0  barley_s       5    6266  1.675421e-05   \n",
       "5223    1.0  barley_s       5    6267  9.254957e-06   \n",
       "5224    1.0  barley_s       5    6268  1.387253e-05   \n",
       "5230   11.0   wheat_w       2    6277  9.569080e-06   \n",
       "5231   11.0   wheat_w       2    6278  2.638682e-05   \n",
       "61357   1.0  barley_s       5   77905  6.420712e-06   \n",
       "61358   1.0  barley_s       5   77906  2.330746e-06   \n",
       "69658   1.0  barley_s       5   88403  2.183885e-06   \n",
       "69678   1.0  barley_s       5   88436  5.099897e-07   \n",
       "69679   1.0  barley_s       5   88437  8.361732e-07   \n",
       "69680   1.0  barley_s       5   88438  8.586755e-06   \n",
       "69681   1.0  barley_s       5   88439  2.022896e-06   \n",
       "69682   1.0  barley_s       5   88440  2.297353e-06   \n",
       "69683   1.0  barley_s       5   88441  9.056516e-06   \n",
       "69702   1.0  barley_s       5   88474  6.954818e-06   \n",
       "69703   1.0  barley_s       5   88475  8.176715e-06   \n",
       "69704   1.0  barley_s       5   88476  1.375611e-05   \n",
       "93142  11.0   wheat_w       2  116814  1.070783e-05   \n",
       "93189  11.0   wheat_w       2  116864  4.067680e-05   \n",
       "97788  11.0   wheat_w       2  121865  9.853092e-06   \n",
       "\n",
       "                                                geometry  \n",
       "5222   POLYGON ((795.274 652.012, 782.783 647.119, 77...  \n",
       "5223   POLYGON ((770.903 643.311, 771.092 643.378, 77...  \n",
       "5224   POLYGON ((800.000 689.909, 797.610 688.661, 79...  \n",
       "5230   POLYGON ((746.552 695.915, 746.340 695.216, 74...  \n",
       "5231   POLYGON ((749.833 726.555, 749.939 725.725, 75...  \n",
       "61357  POLYGON ((648.576 800.000, 648.595 796.419, 64...  \n",
       "61358  POLYGON ((683.350 778.912, 683.317 778.919, 68...  \n",
       "69658  POLYGON ((676.417 711.281, 676.472 710.711, 67...  \n",
       "69678  POLYGON ((667.274 700.308, 667.746 700.333, 66...  \n",
       "69679  POLYGON ((704.419 731.027, 704.315 731.707, 70...  \n",
       "69680  POLYGON ((700.177 674.609, 700.051 674.244, 70...  \n",
       "69681  POLYGON ((700.177 674.609, 700.317 675.136, 70...  \n",
       "69682  POLYGON ((664.740 683.758, 663.549 679.006, 66...  \n",
       "69683  POLYGON ((664.835 728.085, 666.329 728.260, 66...  \n",
       "69702  POLYGON ((679.211 762.488, 679.185 762.462, 67...  \n",
       "69703  POLYGON ((695.677 775.732, 695.714 775.645, 69...  \n",
       "69704  POLYGON ((695.677 775.732, 780.017 785.614, 78...  \n",
       "93142  POLYGON ((756.793 732.934, 756.794 732.929, 75...  \n",
       "93189  POLYGON ((663.405 800.000, 664.990 796.199, 66...  \n",
       "97788  POLYGON ((728.309 761.782, 727.776 761.755, 72...  "
      ]
     },
     "execution_count": 15,
     "metadata": {},
     "output_type": "execute_result"
    }
   ],
   "source": [
    "final_chip_dfs['COCO_train2021_000000100016']['chip_df']"
   ]
  },
  {
   "cell_type": "code",
   "execution_count": 12,
   "id": "synthetic-month",
   "metadata": {},
   "outputs": [],
   "source": [
    "import pandas as pd"
   ]
  },
  {
   "cell_type": "code",
   "execution_count": 23,
   "id": "israeli-salmon",
   "metadata": {},
   "outputs": [
    {
     "data": {
      "text/plain": [
       "1"
      ]
     },
     "execution_count": 23,
     "metadata": {},
     "output_type": "execute_result"
    }
   ],
   "source": [
    "denmark_veg.groupby('r_code').get_group(1).iloc[0]['r_code']"
   ]
  },
  {
   "cell_type": "code",
   "execution_count": 5,
   "id": "smooth-listing",
   "metadata": {},
   "outputs": [
    {
     "name": "stdout",
     "output_type": "stream",
     "text": [
      "<class 'int'>\n",
      "<class 'str'>\n",
      "<class 'int'>\n",
      "<class 'str'>\n",
      "<class 'int'>\n",
      "<class 'str'>\n",
      "<class 'int'>\n",
      "<class 'str'>\n",
      "<class 'int'>\n",
      "<class 'str'>\n",
      "<class 'int'>\n",
      "<class 'str'>\n",
      "<class 'int'>\n",
      "<class 'str'>\n"
     ]
    }
   ],
   "source": [
    "for i in range(len(denmark_veg.groupby('r_code').groups)):\n",
    "    print(type(int(denmark_veg.groupby('r_code').get_group(i+1).iloc[0]['r_code'])))\n",
    "    print(type(denmark_veg.groupby('r_code').get_group(i+1).iloc[0]['r_classes']))"
   ]
  },
  {
   "cell_type": "code",
   "execution_count": 14,
   "id": "cleared-overall",
   "metadata": {},
   "outputs": [],
   "source": [
    "processed_file_path = os.path.join(st.data_directory,'2019_processed','v_whole_summer_winter_2019','processed_shape_files')\n",
    "file = 'denmark-0000000000-0000037888.shp'\n",
    "shape_ex = shapefile.Shape_Extractor(shape_file = os.path.join(processed_file_path,file))"
   ]
  },
  {
   "cell_type": "code",
   "execution_count": 15,
   "id": "noted-server",
   "metadata": {},
   "outputs": [
    {
     "data": {
      "text/plain": [
       "<AxesSubplot:>"
      ]
     },
     "execution_count": 15,
     "metadata": {},
     "output_type": "execute_result"
    },
    {
     "data": {
      "image/png": "[encoded data removed]",
      "text/plain": [
       "<Figure size 432x288 with 1 Axes>"
      ]
     },
     "metadata": {
      "needs_background": "light"
     },
     "output_type": "display_data"
    }
   ],
   "source": [
    "denmark_veg = shape_ex.import_shape()\n",
    "denmark_veg['r_classes'].value_counts().plot(kind='barh')"
   ]
  },
  {
   "cell_type": "code",
   "execution_count": 16,
   "id": "reliable-parliament",
   "metadata": {},
   "outputs": [
    {
     "data": {
      "text/plain": [
       "array(['summer', 'winter'], dtype=object)"
      ]
     },
     "execution_count": 16,
     "metadata": {},
     "output_type": "execute_result"
    }
   ],
   "source": [
    "np.unique(denmark_veg['r_classes'])"
   ]
  },
  {
   "cell_type": "code",
   "execution_count": 17,
   "id": "centered-terry",
   "metadata": {},
   "outputs": [
    {
     "data": {
      "text/plain": [
       "array([1, 2])"
      ]
     },
     "execution_count": 17,
     "metadata": {},
     "output_type": "execute_result"
    }
   ],
   "source": [
    "np.unique(denmark_veg['r_code'])"
   ]
  },
  {
   "cell_type": "code",
   "execution_count": null,
   "id": "continental-press",
   "metadata": {},
   "outputs": [],
   "source": []
  }
 ],
 "metadata": {
  "kernelspec": {
   "display_name": "Python 3",
   "language": "python",
   "name": "python3"
  },
  "language_info": {
   "codemirror_mode": {
    "name": "ipython",
    "version": 3
   },
   "file_extension": ".py",
   "mimetype": "text/x-python",
   "name": "python",
   "nbconvert_exporter": "python",
   "pygments_lexer": "ipython3",
   "version": "3.7.0"
  }
 },
 "nbformat": 4,
 "nbformat_minor": 5
}
