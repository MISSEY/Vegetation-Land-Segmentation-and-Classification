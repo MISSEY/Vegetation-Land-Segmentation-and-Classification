{
 "cells": [
  {
   "cell_type": "code",
   "execution_count": 1,
   "id": "6cda21f2-57c4-4eda-ac02-dcc90e600e44",
   "metadata": {},
   "outputs": [],
   "source": [
    "import rioxarray\n",
    "import os\n",
    "import geopandas as gpd\n",
    "import rasterio\n",
    "import fiona\n",
    "\n",
    "import rasterio.mask\n",
    "import sys\n",
    "from pathlib import Path\n",
    "module_path = str(Path.cwd().parents[0])\n",
    "if module_path not in sys.path:\n",
    "    sys.path.append(module_path)\n",
    "from config import settings as st\n",
    "\n",
    "import numpy as np\n",
    "from tqdm import tqdm"
   ]
  },
  {
   "cell_type": "code",
   "execution_count": 76,
   "id": "c601e503-b71e-425b-a50d-4f10a82e8141",
   "metadata": {},
   "outputs": [],
   "source": []
  },
  {
   "cell_type": "code",
   "execution_count": 3,
   "id": "c237bc0b-a20e-4ea5-8b09-2413a1693c01",
   "metadata": {},
   "outputs": [],
   "source": [
    "data_directory = st.data_directory"
   ]
  },
  {
   "cell_type": "code",
   "execution_count": 4,
   "id": "a05f39c3-22ed-4385-9153-6580133b24ec",
   "metadata": {},
   "outputs": [
    {
     "name": "stdout",
     "output_type": "stream",
     "text": [
      "/home/sami02/projects/thesis/Data\n"
     ]
    }
   ],
   "source": [
    "print(data_directory)"
   ]
  },
  {
   "cell_type": "code",
   "execution_count": 5,
   "id": "cd9c375e-416c-40a3-a002-6a7da1f4fc8a",
   "metadata": {},
   "outputs": [],
   "source": [
    "# denmark_veg = gpd.read_file(os.path.join(data_directory,'shape/Oekologiske_arealer_2016.shp'))\n",
    "denmark_veg = gpd.read_file(os.path.join(data_directory,'Raw_shape_files/Raw_downloaded_files/Denmark_shape_2020/Marker_2020.shp'),encoding='cp865')"
   ]
  },
  {
   "cell_type": "code",
   "execution_count": null,
   "id": "95d15d05-3868-422f-9e8c-b26c957ac6f6",
   "metadata": {},
   "outputs": [],
   "source": []
  },
  {
   "cell_type": "code",
   "execution_count": 60,
   "id": "ac726684-e178-483d-a363-6c127a2d12f9",
   "metadata": {},
   "outputs": [
    {
     "data": {
      "text/plain": [
       "Index(['Marknr', 'Ansoeger', 'IMK_areal', 'geometry'], dtype='object')"
      ]
     },
     "execution_count": 60,
     "metadata": {},
     "output_type": "execute_result"
    }
   ],
   "source": [
    "#2008\n",
    "denmark_veg.columns"
   ]
  },
  {
   "cell_type": "code",
   "execution_count": 62,
   "id": "b059ba02-572d-4684-a79a-fb80cdc0b359",
   "metadata": {},
   "outputs": [
    {
     "data": {
      "text/plain": [
       "Index(['GEONAME', 'ANSNR', 'BLOKNR', 'HOESTAAR', 'DATO', 'AFGRKODE',\n",
       "       'AFGR_DENAV', 'KOL_6', 'KOL_7', 'AREAL_HA', 'geometry'],\n",
       "      dtype='object')"
      ]
     },
     "execution_count": 62,
     "metadata": {},
     "output_type": "execute_result"
    }
   ],
   "source": [
    "#2010\n",
    "denmark_veg.columns"
   ]
  },
  {
   "cell_type": "code",
   "execution_count": 65,
   "id": "3e0cffed-cb6b-4faa-9094-e63887e48e0c",
   "metadata": {},
   "outputs": [
    {
     "data": {
      "text/plain": [
       "Index(['Marknr', 'IMK_areal', 'CVR', 'Afgkode', 'Afgroede', 'GB', 'geometry'], dtype='object')"
      ]
     },
     "execution_count": 65,
     "metadata": {},
     "output_type": "execute_result"
    }
   ],
   "source": [
    "#2011\n",
    "denmark_veg.columns"
   ]
  },
  {
   "cell_type": "code",
   "execution_count": 67,
   "id": "53f0a75b-5a10-4e10-8ee3-e2c550e97358",
   "metadata": {},
   "outputs": [
    {
     "data": {
      "text/plain": [
       "Index(['Marknr', 'IMK_areal', 'CVR', 'Afgkode', 'Afgroede', 'GB', 'geometry'], dtype='object')"
      ]
     },
     "execution_count": 67,
     "metadata": {},
     "output_type": "execute_result"
    }
   ],
   "source": [
    "#2012\n",
    "denmark_veg.columns"
   ]
  },
  {
   "cell_type": "code",
   "execution_count": 69,
   "id": "af740931-9953-47b0-8bc9-17c4faf789b4",
   "metadata": {},
   "outputs": [
    {
     "data": {
      "text/plain": [
       "Index(['Marknr', 'IMK_areal', 'CVR', 'Afgkode', 'Afgroede', 'GB', 'geometry'], dtype='object')"
      ]
     },
     "execution_count": 69,
     "metadata": {},
     "output_type": "execute_result"
    }
   ],
   "source": [
    "#2013\n",
    "denmark_veg.columns"
   ]
  },
  {
   "cell_type": "code",
   "execution_count": 71,
   "id": "41ae0bb7-721e-421f-b209-376bd0ffa5cf",
   "metadata": {},
   "outputs": [
    {
     "data": {
      "text/plain": [
       "Index(['Marknr', 'IMK_areal', 'Journalnr', 'CVR', 'Afgkode', 'Afgroede', 'GB',\n",
       "       'geometry'],\n",
       "      dtype='object')"
      ]
     },
     "execution_count": 71,
     "metadata": {},
     "output_type": "execute_result"
    }
   ],
   "source": [
    "#2014\n",
    "denmark_veg.columns"
   ]
  },
  {
   "cell_type": "code",
   "execution_count": 73,
   "id": "9cda8dff-8c77-4b3e-9090-0981bbe1a020",
   "metadata": {},
   "outputs": [
    {
     "data": {
      "text/plain": [
       "Index(['Marknr', 'IMK_areal', 'Journalnr', 'CVR', 'Afgkode', 'Afgroede', 'GB',\n",
       "       'geometry'],\n",
       "      dtype='object')"
      ]
     },
     "execution_count": 73,
     "metadata": {},
     "output_type": "execute_result"
    }
   ],
   "source": [
    "#2015\n",
    "denmark_veg.columns"
   ]
  },
  {
   "cell_type": "code",
   "execution_count": 75,
   "id": "5d291e85-c994-4b11-8d66-6496787b877e",
   "metadata": {},
   "outputs": [
    {
     "data": {
      "text/plain": [
       "Index(['Marknr', 'IMK_areal', 'Journalnr', 'CVR', 'Afgkode', 'Afgroede', 'GB',\n",
       "       'geometry'],\n",
       "      dtype='object')"
      ]
     },
     "execution_count": 75,
     "metadata": {},
     "output_type": "execute_result"
    }
   ],
   "source": [
    "#2016\n",
    "denmark_veg.columns"
   ]
  },
  {
   "cell_type": "code",
   "execution_count": 85,
   "id": "b4b8664a-40bf-433c-951f-62dd9b26c8af",
   "metadata": {},
   "outputs": [
    {
     "data": {
      "text/plain": [
       "Index(['ID', 'IMK_AREAL', 'JOURNALNR', 'CVR', 'MARKNR', 'AFGROEDE', 'AFGKODE',\n",
       "       'GBANMELDT', 'GB', 'geometry'],\n",
       "      dtype='object')"
      ]
     },
     "execution_count": 85,
     "metadata": {},
     "output_type": "execute_result"
    }
   ],
   "source": [
    "#2017\n",
    "denmark_veg.columns"
   ]
  },
  {
   "cell_type": "code",
   "execution_count": 90,
   "id": "a793df0d-ecae-4093-985a-fa56b5944288",
   "metadata": {},
   "outputs": [
    {
     "data": {
      "text/plain": [
       "Index(['ID', 'IMK_AREAL', 'JOURNALNR', 'CVR', 'MARKNR', 'AFGROEDE', 'AFGKODE',\n",
       "       'GBANMELDT', 'GB', 'geometry'],\n",
       "      dtype='object')"
      ]
     },
     "execution_count": 90,
     "metadata": {},
     "output_type": "execute_result"
    }
   ],
   "source": [
    "#2018\n",
    "denmark_veg.columns"
   ]
  },
  {
   "cell_type": "code",
   "execution_count": 94,
   "id": "44cbd28a-0152-42b1-bb55-e26882db32b5",
   "metadata": {},
   "outputs": [
    {
     "data": {
      "text/plain": [
       "Index(['ID', 'IMK_AREAL', 'JOURNALNR', 'CVR', 'MARKNR', 'AFGROEDE', 'AFGKODE',\n",
       "       'GBANMELDT', 'GB', 'geometry'],\n",
       "      dtype='object')"
      ]
     },
     "execution_count": 94,
     "metadata": {},
     "output_type": "execute_result"
    }
   ],
   "source": [
    "#2019\n",
    "denmark_veg.columns"
   ]
  },
  {
   "cell_type": "code",
   "execution_count": 6,
   "id": "4e6c23e8-1376-4f9d-b399-495cb91f69f8",
   "metadata": {},
   "outputs": [
    {
     "data": {
      "text/plain": [
       "Index(['Marknr', 'IMK_areal', 'Journalnr', 'CVR', 'Afgkode', 'Afgroede', 'GB',\n",
       "       'Markblok', 'GBanmeldt', 'geometry'],\n",
       "      dtype='object')"
      ]
     },
     "execution_count": 6,
     "metadata": {},
     "output_type": "execute_result"
    }
   ],
   "source": [
    "#2020\n",
    "denmark_veg.columns"
   ]
  },
  {
   "cell_type": "code",
   "execution_count": 98,
   "id": "b2d52227-0729-4c96-9537-c7bd13409420",
   "metadata": {},
   "outputs": [
    {
     "data": {
      "text/plain": [
       "Index(['BLOKNR', 'ORTOAAR', 'MODSTORTO', 'BRUTTOAREA', 'TARAAREAL', 'BLOKTYPE',\n",
       "       'geometry'],\n",
       "      dtype='object')"
      ]
     },
     "execution_count": 98,
     "metadata": {},
     "output_type": "execute_result"
    }
   ],
   "source": [
    "# markblok\n",
    "denmark_veg.columns"
   ]
  },
  {
   "cell_type": "code",
   "execution_count": 99,
   "id": "8a257f86-8f7d-4429-9c09-47c3034a77ec",
   "metadata": {},
   "outputs": [
    {
     "data": {
      "text/plain": [
       "<bound method NDFrame.head of            BLOKNR                           ORTOAAR MODSTORTO  BRUTTOAREA  \\\n",
       "0       999999-99                              None      None        0.00   \n",
       "1       480178-34                              2017         N       15.89   \n",
       "2       555243-81                          SOP 2018         N        1.00   \n",
       "3       542094-82                          SOP 2018         N        1.05   \n",
       "4       537145-26                              2018         N        6.67   \n",
       "...           ...                               ...       ...         ...   \n",
       "476659  527154-04  Ikke mσlfast forσrsortofoto 2017         N        2.77   \n",
       "476660  506159-95                              2016         N        0.98   \n",
       "476661  556293-60               SOP 2017 forel°bigt         N        1.25   \n",
       "476662  568369-01                              2017         N        1.09   \n",
       "476663  515262-21                SOP 2017 sammensat         N        0.51   \n",
       "\n",
       "        TARAAREAL BLOKTYPE                                           geometry  \n",
       "0             0.0     None                                               None  \n",
       "1             0.0      OMD  POLYGON ((480012.499 6178056.730, 480073.365 6...  \n",
       "2             0.0      PGR  POLYGON ((555298.421 6243005.384, 555299.749 6...  \n",
       "3             0.0      PGR  POLYGON ((542803.782 6094181.587, 542805.373 6...  \n",
       "4             0.0      OMD  POLYGON ((536933.061 6145423.714, 536936.069 6...  \n",
       "...           ...      ...                                                ...  \n",
       "476659        0.0      PGR  POLYGON ((526995.917 6154665.306, 527001.338 6...  \n",
       "476660        0.0      PGR  POLYGON ((506877.289 6159581.109, 506904.135 6...  \n",
       "476661        0.0      PGR  POLYGON ((556507.014 6293060.467, 556535.799 6...  \n",
       "476662        0.0      PGR  POLYGON ((567858.583 6368986.263, 567867.391 6...  \n",
       "476663        0.0      PGR  POLYGON ((515259.525 6262132.605, 515257.329 6...  \n",
       "\n",
       "[476664 rows x 7 columns]>"
      ]
     },
     "execution_count": 99,
     "metadata": {},
     "output_type": "execute_result"
    }
   ],
   "source": [
    "denmark_veg.head"
   ]
  },
  {
   "cell_type": "code",
   "execution_count": null,
   "id": "768e0b21-3a22-4926-b5a6-1c64731da847",
   "metadata": {},
   "outputs": [],
   "source": [
    "def reformat_shape(dataframe,output_dir,output_file):\n",
    "    dataframe = dataframe.drop(['Marknr', 'IMK_areal', 'CVR', 'GB'], axis=1)\n",
    "    if 'Journalnr' in dataframe:\n",
    "        dataframe = dataframe.drop(['Journalnr'], axis=1)\n",
    "    dataframe.to_file(os.path.join(data_directory,'Raw_shape_files/Reformatted/',output_dir,output_file), driver='ESRI Shapefile')"
   ]
  },
  {
   "cell_type": "code",
   "execution_count": 83,
   "id": "f07e0c6d-0d81-4253-9ae7-23452fdffb2c",
   "metadata": {},
   "outputs": [
    {
     "name": "stderr",
     "output_type": "stream",
     "text": [
      "  0%|          | 0/8 [00:00<?, ?it/s]"
     ]
    },
    {
     "name": "stdout",
     "output_type": "stream",
     "text": [
      "Marker_2014_CVR.shp\n"
     ]
    },
    {
     "name": "stderr",
     "output_type": "stream",
     "text": [
      " 12%|█▎        | 1/8 [00:56<06:37, 56.85s/it]"
     ]
    },
    {
     "name": "stdout",
     "output_type": "stream",
     "text": [
      "21242\n",
      "Marker_2013_CVR.shp\n"
     ]
    },
    {
     "name": "stderr",
     "output_type": "stream",
     "text": [
      " 25%|██▌       | 2/8 [02:07<06:30, 65.07s/it]"
     ]
    },
    {
     "name": "stdout",
     "output_type": "stream",
     "text": [
      "21590\n",
      "Marker_2016_CVR.shp\n"
     ]
    },
    {
     "name": "stderr",
     "output_type": "stream",
     "text": [
      " 38%|███▊      | 3/8 [03:07<05:12, 62.48s/it]"
     ]
    },
    {
     "name": "stdout",
     "output_type": "stream",
     "text": [
      "294\n",
      "Marker_2012_CVR.shp\n"
     ]
    },
    {
     "name": "stderr",
     "output_type": "stream",
     "text": [
      " 62%|██████▎   | 5/8 [04:13<02:18, 46.02s/it]"
     ]
    },
    {
     "name": "stdout",
     "output_type": "stream",
     "text": [
      "22219\n",
      "Marker_2011_CVR.shp\n"
     ]
    },
    {
     "name": "stderr",
     "output_type": "stream",
     "text": [
      " 75%|███████▌  | 6/8 [05:15<01:41, 50.51s/it]"
     ]
    },
    {
     "name": "stdout",
     "output_type": "stream",
     "text": [
      "266\n",
      "Marker_2015_CVR.shp\n"
     ]
    },
    {
     "name": "stderr",
     "output_type": "stream",
     "text": [
      "100%|██████████| 8/8 [06:28<00:00, 48.58s/it]"
     ]
    },
    {
     "name": "stdout",
     "output_type": "stream",
     "text": [
      "283\n"
     ]
    },
    {
     "name": "stderr",
     "output_type": "stream",
     "text": [
      "\n"
     ]
    }
   ],
   "source": [
    "for file in tqdm(os.listdir(os.path.join(data_directory,'Raw_shape_files/Raw_downloaded_files'))):\n",
    "    file_ = file.split('_')\n",
    "    if(int(file_[2])>=2011):\n",
    "        for shape_file in os.listdir(os.path.join(data_directory,'Raw_shape_files/Raw_downloaded_files',file)):\n",
    "            if shape_file.endswith('.shp'):\n",
    "                print(shape_file)\n",
    "                denmark_veg = gpd.read_file(os.path.join(data_directory,'Raw_shape_files/Raw_downloaded_files',file,shape_file),encoding='cp865')\n",
    "                print(len(np.unique(denmark_veg.Afgkode)))"
   ]
  },
  {
   "cell_type": "code",
   "execution_count": 88,
   "id": "ba88013e-aeea-43d2-a068-6696e58598d3",
   "metadata": {},
   "outputs": [
    {
     "name": "stdout",
     "output_type": "stream",
     "text": [
      "367\n"
     ]
    }
   ],
   "source": [
    "#2017\n",
    "print(len(np.unique(denmark_veg.AFGKODE)))"
   ]
  },
  {
   "cell_type": "code",
   "execution_count": 92,
   "id": "7069e676-9c61-4504-a0fd-58aaaff15152",
   "metadata": {},
   "outputs": [
    {
     "name": "stdout",
     "output_type": "stream",
     "text": [
      "306\n"
     ]
    }
   ],
   "source": [
    "#2018\n",
    "print(len(np.unique(denmark_veg.AFGKODE)))"
   ]
  },
  {
   "cell_type": "code",
   "execution_count": null,
   "id": "e8d69bfc-8835-4801-994c-18dbf7922b66",
   "metadata": {},
   "outputs": [],
   "source": [
    "#2019\n",
    "print(len(np.unique(denmark_veg.AFGKODE)))"
   ]
  },
  {
   "cell_type": "code",
   "execution_count": 7,
   "id": "28434e5d-ee5d-47ac-b65e-f1d2391fe2a6",
   "metadata": {},
   "outputs": [
    {
     "data": {
      "text/plain": [
       "<bound method NDFrame.head of         Marknr  IMK_areal   Journalnr       CVR  Afgkode  \\\n",
       "0        VSF 5      15.28  20-0004414  28422733    318.0   \n",
       "1        VSF 6      18.87  20-0004414  28422733    318.0   \n",
       "2        VSF 7      21.02  20-0004414  28422733    254.0   \n",
       "3       fils°6       2.66  20-0004414  28422733    250.0   \n",
       "4       fjan10       3.92  20-0004414  28422733    254.0   \n",
       "...        ...        ...         ...       ...      ...   \n",
       "583669    65-0       9.18  20-0030324  31106605      NaN   \n",
       "583670    64-0      16.08  20-0030324  31106605      NaN   \n",
       "583671     1-0       5.46  20-0018854  21405051      NaN   \n",
       "583672    80-0       8.09  20-0030324  31106605      NaN   \n",
       "583673     3-1       1.52  20-0018854  21405051      NaN   \n",
       "\n",
       "                                      Afgroede   GB   Markblok  GBanmeldt  \\\n",
       "0          MVJ ej udtagning, ej landbrugsareal  0.0  447232-86       0.00   \n",
       "1          MVJ ej udtagning, ej landbrugsareal  0.0  447232-86       0.00   \n",
       "2       Milj°grµs MVJ-tilsagn (0 N), permanent  1.0  447232-86      21.02   \n",
       "3           Permanent grµs, meget lavt udbytte  1.0  463234-72       2.66   \n",
       "4       Milj°grµs MVJ-tilsagn (0 N), permanent  1.0  445243-99       3.92   \n",
       "...                                        ...  ...        ...        ...   \n",
       "583669                                    None  NaN  511161-68        NaN   \n",
       "583670                                    None  NaN  511161-97        NaN   \n",
       "583671                                    None  NaN  479172-61        NaN   \n",
       "583672                                    None  NaN  512160-07        NaN   \n",
       "583673                                    None  NaN  479172-61        NaN   \n",
       "\n",
       "                                                 geometry  \n",
       "0       POLYGON ((447095.808 6232154.360, 447097.965 6...  \n",
       "1       POLYGON ((447414.977 6232743.568, 447416.902 6...  \n",
       "2       POLYGON ((447968.632 6232132.837, 447968.701 6...  \n",
       "3       POLYGON ((463635.528 6233882.395, 463592.872 6...  \n",
       "4       POLYGON ((445791.067 6243928.038, 445791.721 6...  \n",
       "...                                                   ...  \n",
       "583669  POLYGON ((511539.465 6161423.150, 511531.294 6...  \n",
       "583670  POLYGON ((511622.497 6161362.253, 511618.345 6...  \n",
       "583671  POLYGON ((479566.600 6172007.170, 479566.690 6...  \n",
       "583672  POLYGON ((511350.042 6160285.812, 511350.561 6...  \n",
       "583673  POLYGON ((479378.050 6171989.210, 479378.740 6...  \n",
       "\n",
       "[583674 rows x 10 columns]>"
      ]
     },
     "execution_count": 7,
     "metadata": {},
     "output_type": "execute_result"
    }
   ],
   "source": [
    "denmark_veg.head"
   ]
  },
  {
   "cell_type": "code",
   "execution_count": 8,
   "id": "980c121c-8856-4547-a14d-5539447b487a",
   "metadata": {},
   "outputs": [
    {
     "name": "stdout",
     "output_type": "stream",
     "text": [
      "665\n"
     ]
    }
   ],
   "source": [
    "#2020\n",
    "print(len(np.unique(denmark_veg.Afgkode)))"
   ]
  },
  {
   "cell_type": "code",
   "execution_count": 47,
   "id": "f359a8b4-194d-4edd-be39-5796c34d712e",
   "metadata": {},
   "outputs": [],
   "source": [
    "denmark_veg = denmark_veg.drop(['Marknr', 'IMK_areal', 'Journalnr', 'CVR', 'GB'], axis=1)"
   ]
  },
  {
   "cell_type": "code",
   "execution_count": 48,
   "id": "efb64ba6-98a9-45ae-9722-6aaa575d4404",
   "metadata": {},
   "outputs": [],
   "source": [
    "denmark_veg = denmark_veg.dropna()"
   ]
  },
  {
   "cell_type": "code",
   "execution_count": null,
   "id": "b55b8628-a024-421f-be01-4fb208d95ceb",
   "metadata": {},
   "outputs": [],
   "source": [
    "cereals = []\n",
    "for row in denmark_veg.iterrows():\n",
    "    print(row)\n",
    "    if(type(row.Afgroede) == type('')):\n",
    "        cereals.append()"
   ]
  },
  {
   "cell_type": "code",
   "execution_count": 49,
   "id": "39d8e913-4a96-481e-bc62-28aa3c54fe18",
   "metadata": {},
   "outputs": [],
   "source": [
    "listofuniquecrops = np.unique(denmark_veg.Afgroede)"
   ]
  },
  {
   "cell_type": "code",
   "execution_count": 53,
   "id": "1b1224d8-7f89-4949-84ba-c80697e7b08a",
   "metadata": {},
   "outputs": [],
   "source": [
    "listofuniquecropsid = np.unique(denmark_veg.Afgkode)"
   ]
  },
  {
   "cell_type": "code",
   "execution_count": 51,
   "id": "e731294f-461c-483e-b5af-0610d50dbedc",
   "metadata": {},
   "outputs": [
    {
     "data": {
      "text/plain": [
       "292"
      ]
     },
     "execution_count": 51,
     "metadata": {},
     "output_type": "execute_result"
    }
   ],
   "source": [
    "len(listofuniquecrops)"
   ]
  },
  {
   "cell_type": "code",
   "execution_count": 33,
   "id": "7675931b-3892-42c9-a954-b8a8566f5a41",
   "metadata": {},
   "outputs": [],
   "source": [
    "notnone = denmark_veg[denmark_veg['Afgkode'] !=0]"
   ]
  },
  {
   "cell_type": "code",
   "execution_count": 34,
   "id": "c852447d-2ea7-48bb-9e7a-8d2deffce314",
   "metadata": {},
   "outputs": [
    {
     "data": {
      "text/plain": [
       "0                                                    Vårbyg\n",
       "1                                                Vinterraps\n",
       "2                                                Vinterraps\n",
       "3                                                    Vårbyg\n",
       "4         Græs med kløver/lucerne, under 50 % bælgpl. (o...\n",
       "                                ...                        \n",
       "599183                                               Vårbyg\n",
       "599184                                               Vårbyg\n",
       "599185                   MVJ ej udtagning, ej landbrugsjord\n",
       "599186                                          Vinterhvede\n",
       "599187                      Permanent græs, normalt udbytte\n",
       "Name: Afgroede, Length: 599188, dtype: object"
      ]
     },
     "execution_count": 34,
     "metadata": {},
     "output_type": "execute_result"
    }
   ],
   "source": [
    "notnone.Afgroede"
   ]
  },
  {
   "cell_type": "code",
   "execution_count": 30,
   "id": "6973ffdd-56bc-4941-9365-5a6ce53841c9",
   "metadata": {},
   "outputs": [
    {
     "data": {
      "text/plain": [
       "NoneType"
      ]
     },
     "execution_count": 30,
     "metadata": {},
     "output_type": "execute_result"
    }
   ],
   "source": [
    "type(denmark_veg['Afgroede'][599920])"
   ]
  },
  {
   "cell_type": "code",
   "execution_count": 56,
   "id": "5dad791d-4ed6-4227-95ae-b9a8823b0f4a",
   "metadata": {},
   "outputs": [
    {
     "data": {
      "text/plain": [
       "292"
      ]
     },
     "execution_count": 56,
     "metadata": {},
     "output_type": "execute_result"
    }
   ],
   "source": [
    "len(listofuniquecrops)"
   ]
  },
  {
   "cell_type": "code",
   "execution_count": 54,
   "id": "4f0c301c-2b58-469e-be4b-a2720a8136f9",
   "metadata": {},
   "outputs": [
    {
     "data": {
      "text/plain": [
       "array([  1.,   2.,   3.,   4.,   5.,   6.,   7.,  10.,  11.,  13.,  14.,\n",
       "        15.,  16.,  17.,  21.,  22.,  23.,  24.,  25.,  30.,  31.,  32.,\n",
       "        35.,  36.,  40.,  42.,  51.,  52.,  53.,  54.,  55.,  56.,  57.,\n",
       "       101., 102., 103., 104., 105., 106., 107., 108., 109., 110., 111.,\n",
       "       112., 113., 114., 115., 116., 117., 118., 120., 121., 122., 123.,\n",
       "       124., 125., 126., 150., 151., 152., 153., 160., 161., 162., 170.,\n",
       "       171., 172., 173., 174., 180., 182., 210., 211., 212., 213., 214.,\n",
       "       215., 216., 220., 221., 222., 223., 224., 230., 234., 235., 247.,\n",
       "       248., 249., 250., 251., 252., 253., 254., 255., 256., 257., 259.,\n",
       "       260., 261., 262., 263., 264., 266., 267., 268., 269., 270., 271.,\n",
       "       272., 273., 274., 276., 277., 278., 279., 280., 281., 282., 283.,\n",
       "       284., 285., 286., 287., 305., 308., 309., 310., 311., 312., 313.,\n",
       "       314., 316., 317., 318., 319., 320., 321., 323., 324., 325., 360.,\n",
       "       361., 400., 401., 402., 403., 404., 405., 406., 407., 408., 409.,\n",
       "       410., 411., 412., 413., 415., 416., 417., 418., 420., 421., 422.,\n",
       "       423., 424., 429., 430., 431., 432., 434., 440., 448., 449., 450.,\n",
       "       487., 488., 489., 491., 493., 496., 497., 498., 499., 500., 501.,\n",
       "       502., 503., 504., 505., 507., 509., 512., 513., 514., 515., 516.,\n",
       "       517., 518., 519., 520., 521., 522., 523., 524., 525., 526., 527.,\n",
       "       528., 529., 530., 531., 532., 533., 534., 536., 539., 540., 541.,\n",
       "       542., 543., 544., 545., 547., 548., 549., 550., 551., 552., 553.,\n",
       "       560., 561., 563., 570., 579., 580., 581., 582., 583., 585., 586.,\n",
       "       587., 588., 589., 590., 591., 592., 593., 594., 596., 597., 602.,\n",
       "       603., 604., 605., 650., 651., 652., 653., 654., 655., 656., 657.,\n",
       "       658., 659., 660., 661., 662., 663., 664., 666., 667., 668., 701.,\n",
       "       702., 703., 704., 705., 706., 707., 708., 709., 710., 711., 900.,\n",
       "       903., 905., 907., 908., 920., 921., 997.])"
      ]
     },
     "execution_count": 54,
     "metadata": {},
     "output_type": "execute_result"
    }
   ],
   "source": [
    "listofuniquecropsid"
   ]
  },
  {
   "cell_type": "code",
   "execution_count": 55,
   "id": "5d196942-318f-4bf5-9388-2aa5398bc752",
   "metadata": {},
   "outputs": [
    {
     "data": {
      "text/plain": [
       "293"
      ]
     },
     "execution_count": 55,
     "metadata": {},
     "output_type": "execute_result"
    }
   ],
   "source": [
    "len(listofuniquecropsid)"
   ]
  },
  {
   "cell_type": "code",
   "execution_count": 9,
   "id": "ee903960-7f06-45d0-a7de-361f0e96983c",
   "metadata": {},
   "outputs": [
    {
     "data": {
      "text/plain": [
       "geopandas.geoseries.GeoSeries"
      ]
     },
     "execution_count": 9,
     "metadata": {},
     "output_type": "execute_result"
    }
   ],
   "source": [
    "type(denmark_veg.geometry)"
   ]
  },
  {
   "cell_type": "code",
   "execution_count": 10,
   "id": "3a4d5fc3-f437-4d38-a9b9-74991e120d9e",
   "metadata": {},
   "outputs": [],
   "source": [
    "union = denmark_veg.geometry.unary_union"
   ]
  },
  {
   "cell_type": "code",
   "execution_count": null,
   "id": "7dfd85cb-7e43-4622-a2f8-795743fc3bd7",
   "metadata": {},
   "outputs": [],
   "source": []
  }
 ],
 "metadata": {
  "kernelspec": {
   "display_name": "Python 3",
   "language": "python",
   "name": "python3"
  },
  "language_info": {
   "codemirror_mode": {
    "name": "ipython",
    "version": 3
   },
   "file_extension": ".py",
   "mimetype": "text/x-python",
   "name": "python",
   "nbconvert_exporter": "python",
   "pygments_lexer": "ipython3",
   "version": "3.8.8"
  }
 },
 "nbformat": 4,
 "nbformat_minor": 5
}
